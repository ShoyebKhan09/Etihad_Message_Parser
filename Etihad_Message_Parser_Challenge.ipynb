{
  "nbformat": 4,
  "nbformat_minor": 0,
  "metadata": {
    "colab": {
      "provenance": [],
      "collapsed_sections": [],
      "authorship_tag": "ABX9TyNihTDth4zJkAWoRieDx+Qr",
      "include_colab_link": true
    },
    "kernelspec": {
      "name": "python3",
      "display_name": "Python 3"
    },
    "language_info": {
      "name": "python"
    }
  },
  "cells": [
    {
      "cell_type": "markdown",
      "metadata": {
        "id": "view-in-github",
        "colab_type": "text"
      },
      "source": [
        "<a href=\"https://colab.research.google.com/github/ShoyebKhan09/Etihad_Message_Parser/blob/main/Etihad_Message_Parser_Challenge.ipynb\" target=\"_parent\"><img src=\"https://colab.research.google.com/assets/colab-badge.svg\" alt=\"Open In Colab\"/></a>"
      ]
    },
    {
      "cell_type": "code",
      "source": [
        "## Saving all the files in one location.\n",
        "import os, sys\n",
        "from google.colab import drive\n",
        "drive.mount('/content/mnt')\n",
        "nb_path = '/content/notebooks'\n",
        "os.symlink('/content/mnt/My Drive/Colab Notebooks', nb_path)\n",
        "sys.path.insert(0, nb_path) "
      ],
      "metadata": {
        "colab": {
          "base_uri": "https://localhost:8080/"
        },
        "id": "VZQCiwSlcdt6",
        "outputId": "34e7ce01-755e-4ac2-e395-500fa388a937"
      },
      "execution_count": null,
      "outputs": [
        {
          "output_type": "stream",
          "name": "stdout",
          "text": [
            "Mounted at /content/mnt\n"
          ]
        }
      ]
    },
    {
      "cell_type": "code",
      "source": [
        "#!pip install --target=$nb_path fasttext"
      ],
      "metadata": {
        "id": "Kq-sC1eEclDp"
      },
      "execution_count": null,
      "outputs": []
    },
    {
      "cell_type": "code",
      "source": [
        "## We have build a classification model based on the facebook's FastText library."
      ],
      "metadata": {
        "id": "mWv65VHROnHe"
      },
      "execution_count": null,
      "outputs": []
    },
    {
      "cell_type": "code",
      "source": [
        "import fasttext\n",
        "import pandas as pd"
      ],
      "metadata": {
        "id": "J9ld5DbKb8wl"
      },
      "execution_count": null,
      "outputs": []
    },
    {
      "cell_type": "code",
      "source": [
        "## Bring the text data into the colab space.\n",
        "#! gdown --id 1bU_LWVC1wRm_eMUXhQpJfQGIFbjX8UuA"
      ],
      "metadata": {
        "colab": {
          "base_uri": "https://localhost:8080/"
        },
        "id": "1Hke1li1zJbz",
        "outputId": "d940e827-c829-4dc0-c6dc-2ad6615b2753"
      },
      "execution_count": null,
      "outputs": [
        {
          "output_type": "stream",
          "name": "stdout",
          "text": [
            "/usr/local/lib/python3.7/dist-packages/gdown/cli.py:131: FutureWarning: Option `--id` was deprecated in version 4.3.1 and will be removed in 5.0. You don't need to pass it anymore to use a file ID.\n",
            "  category=FutureWarning,\n",
            "Downloading...\n",
            "From: https://drive.google.com/uc?id=1bU_LWVC1wRm_eMUXhQpJfQGIFbjX8UuA\n",
            "To: /content/CPM1.txt\n",
            "100% 16.8k/16.8k [00:00<00:00, 20.0MB/s]\n"
          ]
        }
      ]
    },
    {
      "cell_type": "code",
      "source": [
        "#Split into train and test data set.\n",
        "txt_file = pd.read_csv('/content/CPM1.txt',error_bad_lines=False,header=None)\n",
        "train_file = txt_file[txt_file.index <= 0.7*max(txt_file.index)]\n",
        "test_file = txt_file[txt_file.index > 0.7*max(txt_file.index)]"
      ],
      "metadata": {
        "id": "CTX73Nqu8FmB"
      },
      "execution_count": null,
      "outputs": []
    },
    {
      "cell_type": "code",
      "source": [
        "train_file.to_csv('train.txt',index = False,sep =' ',header = None, quoting =None,quotechar = \" \",escapechar = \" \")\n",
        "test_file.to_csv('test.txt',index = False,sep =' ',header = None, quoting =None,quotechar = \" \",escapechar = \" \")"
      ],
      "metadata": {
        "id": "TSgU9AeO-MwF"
      },
      "execution_count": null,
      "outputs": []
    },
    {
      "cell_type": "code",
      "source": [
        "model = fasttext.train_supervised(input='train.txt')"
      ],
      "metadata": {
        "id": "-MEHuoiW9Uoe"
      },
      "execution_count": null,
      "outputs": []
    },
    {
      "cell_type": "code",
      "source": [
        "model.test('test.txt')   "
      ],
      "metadata": {
        "colab": {
          "base_uri": "https://localhost:8080/"
        },
        "id": "at5c3PS49dI-",
        "outputId": "3717eec2-1873-46a7-fd2e-79eadc08db65"
      },
      "execution_count": null,
      "outputs": [
        {
          "output_type": "execute_result",
          "data": {
            "text/plain": [
              "(108, 0.9537037037037037, 0.9537037037037037)"
            ]
          },
          "metadata": {},
          "execution_count": 49
        }
      ]
    },
    {
      "cell_type": "code",
      "source": [
        "## Add more epochs and larger learning rate. This is just to see if the accuracy is improved or not."
      ],
      "metadata": {
        "id": "8jFp2Xwc_oT0"
      },
      "execution_count": null,
      "outputs": []
    },
    {
      "cell_type": "code",
      "source": [
        "model_1 = fasttext.train_supervised(input=\"train.txt\", epoch=25,lr=0.95,wordNgrams=3)"
      ],
      "metadata": {
        "id": "q-4tIiur_2xP"
      },
      "execution_count": null,
      "outputs": []
    },
    {
      "cell_type": "code",
      "source": [
        "model_1.test(\"test.txt\")"
      ],
      "metadata": {
        "colab": {
          "base_uri": "https://localhost:8080/"
        },
        "id": "k2STh6TKABfg",
        "outputId": "d8c889d5-7469-4552-a3be-1d0b4a06606c"
      },
      "execution_count": null,
      "outputs": [
        {
          "output_type": "execute_result",
          "data": {
            "text/plain": [
              "(108, 0.9537037037037037, 0.9537037037037037)"
            ]
          },
          "metadata": {},
          "execution_count": 68
        }
      ]
    },
    {
      "cell_type": "code",
      "source": [
        "model.predict(\"-41P/PMC77223EY/AUH/2225/C.ELI.VUN\")"
      ],
      "metadata": {
        "colab": {
          "base_uri": "https://localhost:8080/"
        },
        "id": "k8UdMBkOAiwd",
        "outputId": "d0c21e2e-cd66-4121-dc61-df0f9b723dcd"
      },
      "execution_count": null,
      "outputs": [
        {
          "output_type": "execute_result",
          "data": {
            "text/plain": [
              "(('__label__no_error',), array([0.9966107]))"
            ]
          },
          "metadata": {},
          "execution_count": 69
        }
      ]
    },
    {
      "cell_type": "code",
      "source": [
        "model.predict(\"-23P/PMC75124EY/AUH/3088/C/LD\")"
      ],
      "metadata": {
        "colab": {
          "base_uri": "https://localhost:8080/"
        },
        "id": "I4xSXFgXArA0",
        "outputId": "9d98ec98-65ee-44e3-eb28-5feec6772109"
      },
      "execution_count": null,
      "outputs": [
        {
          "output_type": "execute_result",
          "data": {
            "text/plain": [
              "(('__label__error',), array([0.96552384]))"
            ]
          },
          "metadata": {},
          "execution_count": 72
        }
      ]
    },
    {
      "cell_type": "code",
      "source": [
        "###############################################################Information Extraction##########################################################################"
      ],
      "metadata": {
        "id": "Rv1lCh2QBMSj"
      },
      "execution_count": null,
      "outputs": []
    },
    {
      "cell_type": "code",
      "source": [],
      "metadata": {
        "id": "gxPbJOAVPLXE"
      },
      "execution_count": null,
      "outputs": []
    }
  ]
}